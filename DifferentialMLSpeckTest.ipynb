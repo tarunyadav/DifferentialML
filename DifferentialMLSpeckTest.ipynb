{
  "nbformat": 4,
  "nbformat_minor": 0,
  "metadata": {
    "colab": {
      "name": "DifferentialMLSpeckTest.ipynb",
      "provenance": [],
      "mount_file_id": "18eig2OVUuSsKvzMiwvzh--fwxEERoqZC",
      "authorship_tag": "ABX9TyOLO82Z4sbB+/oMJZcXZkGY",
      "include_colab_link": true
    },
    "kernelspec": {
      "name": "python3",
      "display_name": "Python 3"
    }
  },
  "cells": [
    {
      "cell_type": "markdown",
      "metadata": {
        "id": "view-in-github",
        "colab_type": "text"
      },
      "source": [
        "<a href=\"https://colab.research.google.com/github/tarunyadav/DifferentialML/blob/SpeckTest/DifferentialMLSpeckTest.ipynb\" target=\"_parent\"><img src=\"https://colab.research.google.com/assets/colab-badge.svg\" alt=\"Open In Colab\"/></a>"
      ]
    },
    {
      "cell_type": "code",
      "metadata": {
        "id": "Pe2ep8kjWn7F",
        "colab_type": "code",
        "colab": {}
      },
      "source": [
        ""
      ],
      "execution_count": 0,
      "outputs": []
    }
  ]
}